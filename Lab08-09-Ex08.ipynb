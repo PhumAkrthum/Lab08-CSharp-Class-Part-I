{
 "cells": [
  {
   "cell_type": "markdown",
   "metadata": {
    "dotnet_interactive": {
     "language": "csharp"
    },
    "polyglot_notebook": {
     "kernelName": "csharp"
    }
   },
   "source": [
    "# Lab 8 Exercise 8\n",
    "\n",
    "## Static Class"
   ]
  },
  {
   "cell_type": "markdown",
   "metadata": {},
   "source": [
    "1. สร้าง console application project\n",
    "\n",
    "```\n",
    "    dotnet new console --name Lab08_Ex08\n",
    "```"
   ]
  },
  {
   "cell_type": "markdown",
   "metadata": {},
   "source": [
    "2. เปลี่ยน code ให้เป็นดังต่อไปนี้\n",
    "\n",
    "> ```csharp\n",
    ">  1. int x = 2, y = 3;\n",
    ">  2. int add_result = Calculator.add(x, y);\n",
    ">  3. System.Console.WriteLine($\"{x} + {y} = {add_result}\");\n",
    ">  4. \n",
    ">  5. int i = 2, j = 3;\n",
    ">  6. int multiply_result = Calculator.multiply(i, j);\n",
    ">  7. System.Console.WriteLine($\"{i} x {j} = {multiply_result}\");\n",
    ">  8. \n",
    ">  9. public static class Calculator\n",
    "> 10. {\n",
    "> 11.     public static int add(int a, int b)\n",
    "> 12.     {\n",
    "> 13.         return a + b;\n",
    "> 14.     }\n",
    "> 15.     public static int multiply(int a, int b)\n",
    "> 16.     {\n",
    "> 17.         return a * b;\n",
    "> 18.     }\n",
    "> 19. }\n",
    "> ```\n",
    "\n"
   ]
  },
  {
   "cell_type": "markdown",
   "metadata": {},
   "source": [
    "3. Build project โดยการใช้คำสั่ง\n",
    "\n",
    "```\n",
    "    dotnet build  Lab08_Ex08\n",
    "```\n",
    "\n"
   ]
  },
  {
   "cell_type": "markdown",
   "metadata": {},
   "source": [
    "4. บันทึกผลที่ได้จากการรันคำสั่งในข้อ 3\n",
    "\n"
   ]
  },
  {
   "cell_type": "markdown",
   "metadata": {},
   "source": [
    "*คำตอบ*"
   ]
  },
  {
   "cell_type": "markdown",
   "metadata": {},
   "source": [
    "C:\\Users\\asus\\Documents\\LAB.8\\Lab08-CSharp-Class-Part-I>dotnet build  Lab08_Ex08\n",
    "\n",
    "Restore complete (0.3s)\n",
    "  \n",
    "  Lab08_Ex08 succeeded (1.8s) → Lab08_Ex08\\bin\\Debug\\net9.0\\Lab08_Ex08.dll\n",
    "\n",
    "Build succeeded in 2.5s"
   ]
  },
  {
   "cell_type": "markdown",
   "metadata": {},
   "source": [
    "5. Run project โดยการใช้คำสั่ง\n",
    "\n",
    "```\n",
    "    dotnet run --project Lab08_Ex08\n",
    "```"
   ]
  },
  {
   "cell_type": "markdown",
   "metadata": {},
   "source": [
    "6. บันทึกผลที่ได้จากการรันคำสั่งในข้อ 5\n",
    "\n",
    "\n"
   ]
  },
  {
   "cell_type": "markdown",
   "metadata": {},
   "source": [
    "*คำตอบ*"
   ]
  },
  {
   "cell_type": "markdown",
   "metadata": {},
   "source": [
    "C:\\Users\\asus\\Documents\\LAB.8\\Lab08-CSharp-Class-Part-I>dotnet run --project Lab08_Ex08\n",
    "\n",
    "2 + 3 = 5\n",
    "\n",
    "2 x 3 = 6"
   ]
  },
  {
   "cell_type": "markdown",
   "metadata": {},
   "source": [
    "7. อธิบายสิ่งที่พบในการทดลอง\n",
    "\n"
   ]
  },
  {
   "cell_type": "markdown",
   "metadata": {},
   "source": [
    "*คำตอบ*"
   ]
  },
  {
   "cell_type": "markdown",
   "metadata": {},
   "source": [
    "เมื่อทำการ build และ run จะไม่พบ warning หรือ error ใดๆ\n",
    "\n",
    "โดยได้ผลการรันดังนี้ \n",
    "\n",
    "2 + 3 = 5\n",
    "\n",
    "2 x 3 = 6\n",
    "\n",
    "การทำงานของ Calculator\n",
    "\n",
    "เป็น static class หมายความว่าห้ามสร้าง instance (วัตถุ) ของคลาสนี้\n",
    "\n",
    "มี 2 เมธอดหลัก:\n",
    "Add(int a, int b) > รับค่า a และ b แล้วก็คืนค่า ผลรวมของสองตัวเลข\n",
    "\n",
    "Multiply(int a, int b) > รับค่า a และ b แล้วคืนค่า ผลคูณของสองตัวเลข\n",
    "ทั้งสองเมธอดเป็น public static หมายความว่าสามารถเรียกใช้ได้โดยไม่ต้องสร้าง object เช่น Calculator.Add(2, 3)\n",
    "\n",
    "การทำงานของ Program และ Main()\n",
    "\n",
    "คลาส Program เป็นคลาสหลักของโปรแกรม\n",
    "เมธอด Main() เป็นจุดเริ่มต้นของการทำงาน\n",
    "ประกาศตัวแปร x, y และ i, j แล้วใช้ Calculator เพื่อคำนวณ \n",
    "\n",
    "เมื่อได้ผลการกำควณก็แสดงผลตัวเลขที่นำมาคำนวณ = ผลลัพธ์การคำนวณ"
   ]
  },
  {
   "cell_type": "markdown",
   "metadata": {},
   "source": [
    "8. นำ code ในข้อ 2 มารันบน polyglot notebook  โดยใส่ใน  code cell ด้านล่างนี้\n"
   ]
  },
  {
   "cell_type": "code",
   "execution_count": null,
   "metadata": {},
   "outputs": [
    {
     "name": "stdout",
     "output_type": "stream",
     "text": [
      "2 + 3 = 5\n",
      "2 x 3 = 6\n"
     ]
    }
   ],
   "source": [
    "// พื้นที่เขียน code ตามข้อ 2\n",
    "int x = 2, y = 3;\n",
    " int add_result = Calculator.add(x, y);\n",
    " System.Console.WriteLine($\"{x} + {y} = {add_result}\");\n",
    " \n",
    " int i = 2, j = 3;\n",
    " int multiply_result = Calculator.multiply(i, j);\n",
    " System.Console.WriteLine($\"{i} x {j} = {multiply_result}\");\n",
    " \n",
    " public static class Calculator\n",
    " {\n",
    "    public static int add(int a, int b)\n",
    "     {\n",
    "        return a + b;\n",
    "     }\n",
    "     public static int multiply(int a, int b)\n",
    "     {\n",
    "         return a * b;\n",
    "     }\n",
    " }"
   ]
  },
  {
   "cell_type": "markdown",
   "metadata": {},
   "source": [
    "8.1 ผลการรันเป็นอย่างไร\n",
    "\n"
   ]
  },
  {
   "cell_type": "markdown",
   "metadata": {},
   "source": [
    "*คำตอบ*"
   ]
  },
  {
   "cell_type": "markdown",
   "metadata": {},
   "source": [
    "ผลการรัน \n",
    "\n",
    "2 + 3 = 5\n",
    "\n",
    "2 x 3 = 6"
   ]
  },
  {
   "cell_type": "markdown",
   "metadata": {},
   "source": [
    "8.2 เหมือนหรือต่างจาก console application อย่างไร"
   ]
  },
  {
   "cell_type": "markdown",
   "metadata": {},
   "source": [
    "*คำตอบ*"
   ]
  },
  {
   "cell_type": "markdown",
   "metadata": {},
   "source": [
    "เหมือนกับในส่วน ของ console application ทั้งการ build run\n",
    "\n",
    "คือไม่มีการพบ warning error  ได้ผลลัพธ์การรันดังนี้  \n",
    "\n",
    "2 + 3 = 5\n",
    "\n",
    "2 x 3 = 6"
   ]
  },
  {
   "cell_type": "markdown",
   "metadata": {},
   "source": [
    "## คำถาม"
   ]
  },
  {
   "cell_type": "markdown",
   "metadata": {},
   "source": [
    "1. static class คืออะไร และแตกต่างจาก class ธรรมดาอย่างไร"
   ]
  },
  {
   "cell_type": "markdown",
   "metadata": {},
   "source": [
    "*คำตอบ*"
   ]
  },
  {
   "cell_type": "markdown",
   "metadata": {},
   "source": [
    "static class คือคลาสที่ไม่สามารถสร้างอ็อบเจ็กต์ (Instance) ได้ และสามารถเข้าถึงได้โดยตรงผ่านชื่อคลาสเท่านั้น \n",
    "\n",
    "ความแตกต่าง\n",
    "\n",
    "static class > สร้าง Instance ไม่ได้ >สมาชิกของคลาส ต้องเป็น static เท่านั้น > การเรียกใช้งาน ClassName.MethodName() >การใช้ใน OOP\tมักใช้เก็บฟังก์ชันที่ไม่ต้องมี State\n",
    "\n",
    "class ทั่วไป >สร้าง Instance ได้ >สมาชิกของคลาส มีได้ทั้ง static และ non-static > การเรียกใช้งาน ใช้ผ่าน Instance เช่น obj.MethodName() >การใช้ใน OOP\tใช้สร้างobjectและมีข้อมูลเฉพาะตัว\n",
    "\n"
   ]
  },
  {
   "cell_type": "markdown",
   "metadata": {},
   "source": [
    "2. เมื่อไหร่ควรใช้ static class และเมื่อไหร่ควรใช้ class ธรรมดา"
   ]
  },
  {
   "cell_type": "markdown",
   "metadata": {},
   "source": [
    "*คำตอบ*"
   ]
  },
  {
   "cell_type": "markdown",
   "metadata": {},
   "source": [
    "ใช้ static class เมื่อ:\n",
    "\n",
    "ต้องการสร้างคลาสที่ ไม่ต้องมี Instance\n",
    "คลาสมีแต่เมธอดที่ใช้ร่วมกัน เช่น ยูทิลิตี้ (Utility Methods) เช่น Math.Sqrt(), DateTime.Now\n",
    "ฟังก์ชันไม่ต้องจำค่า State ของตัวเอง\n",
    "\n",
    "ใช้ class ธรรมดาเมื่อ:\n",
    "\n",
    "ต้องการสร้างอ็อบเจ็กต์ที่มีคุณสมบัติ (Properties) และมี State\n",
    "ต้องการใช้ Encapsulation, Inheritance, Polymorphism (OOP)\n",
    "คลาสต้องการเก็บข้อมูลที่แตกต่างกันในแต่ละ Instance"
   ]
  },
  {
   "cell_type": "markdown",
   "metadata": {},
   "source": [
    "3. สมาชิกทั้งหมดของ static class ต้องเป็น static หรือไม่ เพราะอะไร"
   ]
  },
  {
   "cell_type": "markdown",
   "metadata": {},
   "source": [
    "*คำตอบ*"
   ]
  },
  {
   "cell_type": "markdown",
   "metadata": {},
   "source": [
    "สมาชิกทั้งหมดของ static class ต้องเป็น static\n",
    "\n",
    "เพราะ static class ไม่สามารถสร้าง Instance ได้\n",
    "ถ้ามี สมาชิกที่ไม่ใช่ static ก็จะต้องสร้าง Instance เพื่อเข้าถึง ซึ่งขัดกับคุณสมบัติของ static class"
   ]
  },
  {
   "cell_type": "markdown",
   "metadata": {},
   "source": [
    "4. เราสามารถสร้าง instance ของ static class ได้หรือไม่  เพราะอะไร"
   ]
  },
  {
   "cell_type": "markdown",
   "metadata": {},
   "source": [
    "*คำตอบ*"
   ]
  },
  {
   "cell_type": "markdown",
   "metadata": {},
   "source": [
    "ไม่ได้\n",
    "\n",
    "เพราะ static class ไม่มี Constructor ที่สามารถเรียกใช้ new ได้\n",
    "การมี Instance คือหมายความว่าข้อมูลของแต่ละ Instance อาจแตกต่างกัน ซึ่งขัดกับหลักของ static class ที่ใช้แชร์ข้อมูลหรือเมธอดร่วมกัน"
   ]
  }
 ],
 "metadata": {
  "kernelspec": {
   "display_name": ".NET (C#)",
   "language": "C#",
   "name": ".net-csharp"
  },
  "polyglot_notebook": {
   "kernelInfo": {
    "defaultKernelName": "csharp",
    "items": [
     {
      "aliases": [],
      "languageName": "csharp",
      "name": "csharp"
     }
    ]
   }
  }
 },
 "nbformat": 4,
 "nbformat_minor": 2
}
