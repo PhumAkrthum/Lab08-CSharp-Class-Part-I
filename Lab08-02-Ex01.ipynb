{
 "cells": [
  {
   "cell_type": "markdown",
   "metadata": {},
   "source": [
    "# Lab 8 Exercise 1 \n",
    "##  การสร้าง Class\n"
   ]
  },
  {
   "cell_type": "markdown",
   "metadata": {},
   "source": [
    "\n",
    "1. สร้าง console application project\n"
   ]
  },
  {
   "cell_type": "markdown",
   "metadata": {},
   "source": [
    "1.1 เรียก terminal (cmd) ขึ้นมา \n",
    "\n",
    "1.2 ตรวจสอบให้แน่ใจว่าอยู่ใน folder หรือ directory ที่ต้องการสร้าง project \n",
    "\n",
    "1.3 พิมพ์คำสั่งต่อไปนี้\n",
    "\n",
    "``` \n",
    "    dotnet new console --name Lab08_Ex01\n",
    "```\n",
    "\n",
    "1.4 ใช้คำสั่ง dir เพื่อตรวจสอบดูว่าโฟลเดอร์ของ project ได้ถูกสร้างขึ้นแล้วหรือยัง"
   ]
  },
  {
   "cell_type": "markdown",
   "metadata": {},
   "source": [
    "\n",
    "2. เปลี่ยน code ในไฟล์ program.cs ให้เป็นดังต่อไปนี้ (ตัวเลขข้างหน้า คือหมายเลขบรรทัด ไว้สำหรับอ้างอิง)\n",
    "\n",
    "> ```c#\n",
    "> 1.  Person p = new Person();\n",
    "> 2.  System.Console.WriteLine($\"Type of p is {p.GetType()}\");\n",
    "> 3.  \n",
    "> 4.  class Person\n",
    "> 5.  {\n",
    "> 6.  \n",
    "> 7.  }\n",
    "> ```\n"
   ]
  },
  {
   "cell_type": "markdown",
   "metadata": {},
   "source": [
    "\n",
    "3. Build project โดยการใช้คำสั่ง\n",
    "\n",
    "```\n",
    "dotnet build  Lab08_Ex01\n",
    "\n",
    "```\n"
   ]
  },
  {
   "cell_type": "markdown",
   "metadata": {},
   "source": [
    "\n",
    "4. บันทึกผลที่ได้จากการรันคำสั่งในข้อ 3\n"
   ]
  },
  {
   "cell_type": "markdown",
   "metadata": {},
   "source": [
    "*คำตอบ* \n",
    "\n",
    "C:\\Users\\asus\\Documents\\LAB.8\\Lab08-CSharp-Class-Part-I\\Lab08_Ex01>dotnet build\n",
    "\n",
    "Restore complete (0.3s)\n",
    " \n",
    "  Lab08_Ex01 succeeded (2.0s) → bin\\Debug\\net9.0\\Lab08_Ex01.dll\n",
    "\n",
    "Build succeeded in 2.7s"
   ]
  },
  {
   "cell_type": "markdown",
   "metadata": {},
   "source": [
    "\n",
    "5. Run project โดยการใช้คำสั่ง\n",
    "\n",
    "```\n",
    "dotnet run --project Lab08_Ex01\n",
    "```\n"
   ]
  },
  {
   "cell_type": "markdown",
   "metadata": {},
   "source": [
    "\n",
    "6. บันทึกผลที่ได้จากการรันคำสั่งในข้อ 5\n"
   ]
  },
  {
   "cell_type": "markdown",
   "metadata": {},
   "source": [
    "*คำตอบ* \n",
    "\n",
    "C:\\Users\\asus\\Documents\\LAB.8\\Lab08-CSharp-Class-Part-I\\Lab08_Ex01>dotnet run\n",
    "\n",
    "Type of p is Person"
   ]
  },
  {
   "cell_type": "markdown",
   "metadata": {},
   "source": [
    "7. โค้ดต่อไปนี้สามารถรันได้ใน polyglot notebook หรือไม่ "
   ]
  },
  {
   "cell_type": "code",
   "execution_count": null,
   "metadata": {},
   "outputs": [
    {
     "name": "stdout",
     "output_type": "stream",
     "text": [
      "Type of p is Submission#1+Person\r\n"
     ]
    }
   ],
   "source": [
    "Person p = new Person();\n",
    "System.Console.WriteLine($\"Type of p is {p.GetType()}\");\n",
    "\n",
    "class Person\n",
    "{\n",
    "\n",
    "}"
   ]
  },
  {
   "cell_type": "markdown",
   "metadata": {},
   "source": [
    "*คำตอบ*"
   ]
  },
  {
   "cell_type": "markdown",
   "metadata": {},
   "source": [
    "โค้ดสามารถรันได้ มีผลลัพธ์ คือ Type of p is Submission#1+Person"
   ]
  },
  {
   "cell_type": "markdown",
   "metadata": {},
   "source": [
    "## คำถาม\n",
    "\n"
   ]
  },
  {
   "cell_type": "markdown",
   "metadata": {},
   "source": [
    "1. Class ในภาษา C# คืออะไร\n"
   ]
  },
  {
   "cell_type": "markdown",
   "metadata": {},
   "source": [
    "*คำตอบ*"
   ]
  },
  {
   "cell_type": "markdown",
   "metadata": {},
   "source": [
    "Class คือพิมพ์เขียวหรือแบบแปลนที่ใช้สร้างวัตถุ (Object)\n",
    "\n",
    "เปรียบเหมือนแบบแปลนบ้าน ที่บอกว่าบ้านจะมีห้องอะไรบ้าง มีฟังก์ชันอะไรบ้าง "
   ]
  },
  {
   "cell_type": "markdown",
   "metadata": {},
   "source": [
    "2. Class มีหน้าที่อะไร\n"
   ]
  },
  {
   "cell_type": "markdown",
   "metadata": {},
   "source": [
    "*คำตอบ*"
   ]
  },
  {
   "cell_type": "markdown",
   "metadata": {},
   "source": [
    "เก็บข้อมูล (Properties/Fields)\n",
    "\n",
    "กำหนดพฤติกรรม (Methods)\n",
    "\n",
    "จัดการการเข้าถึงข้อมูล (Access Modifiers)\n",
    "\n",
    "สร้างแม่แบบสำหรับสร้าง Object"
   ]
  },
  {
   "cell_type": "markdown",
   "metadata": {},
   "source": [
    "3. ทำไมเราต้องใช้ Class\n"
   ]
  },
  {
   "cell_type": "markdown",
   "metadata": {},
   "source": [
    "*คำตอบ*"
   ]
  },
  {
   "cell_type": "markdown",
   "metadata": {},
   "source": [
    "ช่วยจัดระเบียบโค้ด (Organize code)\n",
    "\n",
    "ทำให้โค้ดนำกลับมาใช้ใหม่ได้ (Reusability)\n",
    "\n",
    "ซ่อนรายละเอียดการทำงานภายใน (Encapsulation)\n",
    "\n",
    "ทำให้พัฒนาและดูแลรักษาโค้ดง่ายขึ้น"
   ]
  },
  {
   "cell_type": "markdown",
   "metadata": {},
   "source": [
    "4. ส่วนประกอบของ Class มีอะไรบ้าง\n"
   ]
  },
  {
   "cell_type": "markdown",
   "metadata": {},
   "source": [
    "*คำตอบ*"
   ]
  },
  {
   "cell_type": "markdown",
   "metadata": {},
   "source": [
    "Fields  - เก็บข้อมูลหรือสถานะของคลาส\n",
    "\n",
    "Properties  - ควบคุมการเข้าถึงข้อมูล\n",
    "\n",
    "Constructor  - เมธอดพิเศษที่ทำงานตอนสร้างอ็อบเจ็กต์\n",
    "\n",
    "Methods  - ฟังก์ชันที่กำหนดพฤติกรรมของคลาส\n",
    "\n",
    "Events  - แจ้งเตือนเมื่อมีการเปลี่ยนแปลงสำคัญ\n",
    "\n",
    "Delegates  - ตัวแทนเมธอดที่สามารถส่งต่อได้"
   ]
  },
  {
   "cell_type": "markdown",
   "metadata": {},
   "source": [
    "5. Class และ Object แตกต่างกันอย่างไร\n"
   ]
  },
  {
   "cell_type": "markdown",
   "metadata": {},
   "source": [
    "*คำตอบ*"
   ]
  },
  {
   "cell_type": "markdown",
   "metadata": {},
   "source": [
    "Class คือแบบแปลนหรือพิมพ์เขียว เช่น แบบแปลนบ้าน\n",
    "\n",
    "Object คือสิ่งที่สร้างจากแบบแปลนนั้น เช่น ตัวบ้านจริงๆ\n",
    "\n",
    "ยกตัวอย่างเช่น Class เป็นสูตรขนม . Object เหมือนขนมที่ทำจากสูตรนั้น (ทำกี่ชิ้นก็ได้จากสูตรเดียวกัน)"
   ]
  },
  {
   "cell_type": "markdown",
   "metadata": {},
   "source": [
    "6. การตั้งชื่อ Class มีหลักเกณฑ์อย่างไร"
   ]
  },
  {
   "cell_type": "markdown",
   "metadata": {},
   "source": [
    "*คำตอบ*"
   ]
  },
  {
   "cell_type": "markdown",
   "metadata": {},
   "source": [
    "ขึ้นต้นด้วยอักษรพิมพ์ใหญ่\n",
    "\n",
    "ใช้คำนาม\n",
    "\n",
    "ชื่อต้องสื่อความหมาย\n",
    "\n",
    "ห้ามมีเว้นวรรค\n",
    "\n",
    "ห้ามขึ้นต้นด้วยตัวเลข"
   ]
  },
  {
   "cell_type": "markdown",
   "metadata": {},
   "source": [
    "7. คำสั่ง p.GetType() คืออะไร"
   ]
  },
  {
   "cell_type": "markdown",
   "metadata": {},
   "source": [
    "*คำตอบ*"
   ]
  },
  {
   "cell_type": "markdown",
   "metadata": {},
   "source": [
    "เป็นเมธอดที่ใช้ตรวจสอบประเภทของobject\n",
    "\n",
    "ใช้เมื่อต้องการรู้ว่า object นั้นถูกสร้างจาก Class อะไร จากนั้น คืนค่าเป็น Type ของ Object นั้นๆ"
   ]
  },
  {
   "cell_type": "markdown",
   "metadata": {},
   "source": [
    "8. ผลที่ได้จากคำสั่ง  p.GetType() คืออะไร มันให้ข้อมูลอะไรแก่เราบ้าง"
   ]
  },
  {
   "cell_type": "markdown",
   "metadata": {},
   "source": [
    "*คำตอบ*"
   ]
  },
  {
   "cell_type": "markdown",
   "metadata": {},
   "source": [
    "1.ให้ชื่อ Class (Name, FullName)\n",
    "\n",
    "ชื่อสั้นๆ เช่น \"Person\"\n",
    "ชื่อเต็มรวม namespace เช่น \"MyApp.Models.Person\"\n",
    "\n",
    "\n",
    "2.โครงสร้างภายใน Class\n",
    "\n",
    "Properties ทั้งหมด\n",
    "Methods ทั้งหมด\n",
    "Fields ทั้งหมด\n",
    "\n",
    "\n",
    "3.ความสัมพันธ์กับ Class อื่น\n",
    "\n",
    "Class แม่ (Base Class)\n",
    "Interfaces ที่ใช้\n",
    "Assembly ที่อยู่"
   ]
  },
  {
   "cell_type": "markdown",
   "metadata": {},
   "source": [
    "9. ในภาษา C# การประกาศ class ไว้ก่อนหรือหลังการสร้าง  object ต่างกันหรือไม่ "
   ]
  },
  {
   "cell_type": "markdown",
   "metadata": {},
   "source": [
    "*คำตอบ*"
   ]
  },
  {
   "cell_type": "markdown",
   "metadata": {},
   "source": [
    "ต่างกัน\n",
    "\n",
    "ในส่วนการทำงาน\n",
    "\n",
    "\n",
    "Class ต้องถูกประกาศก่อนการสร้าง Object เสมอ\n",
    "Compiler จะแจ้งเตือนถ้าพยายามสร้าง Object จาก Class ที่ยังไม่ได้ประกาศ\n",
    "ถ้าประกาศ Class ไว้หลัง โค้ดจะไม่สามารถ Compile ได้\n",
    "\n",
    "\n",
    "เรื่องการเข้าถึง\n",
    "\n",
    "\n",
    "ถ้าประกาศ Class ไว้ก่อน สามารถสร้าง Object ได้ในทุกที่หลังจากจุดที่ประกาศ\n",
    "การประกาศ Class ไว้หลังจุดที่พยายามสร้าง Object จะทำให้เกิด error"
   ]
  }
 ],
 "metadata": {
  "kernelspec": {
   "display_name": ".NET (C#)",
   "language": "C#",
   "name": ".net-csharp"
  },
  "polyglot_notebook": {
   "kernelInfo": {
    "defaultKernelName": "csharp",
    "items": [
     {
      "aliases": [],
      "languageName": "csharp",
      "name": "csharp"
     }
    ]
   }
  }
 },
 "nbformat": 4,
 "nbformat_minor": 2
}
